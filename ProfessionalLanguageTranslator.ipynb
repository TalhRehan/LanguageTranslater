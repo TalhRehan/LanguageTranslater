{
 "cells": [
  {
   "cell_type": "code",
   "execution_count": 3,
   "id": "41e4d631-a4b7-4411-940b-43effe9cab4b",
   "metadata": {},
   "outputs": [
    {
     "name": "stdout",
     "output_type": "stream",
     "text": [
      "Detected Language en\n",
      "Probability :  [en:0.9999967937906149]\n"
     ]
    }
   ],
   "source": [
    "from langdetect import detect,detect_langs\n",
    "sentence = \"She is reading a book\"\n",
    "print(\"Detected Language\", detect(sentence))\n",
    "print(\"Probability : \", detect_langs(sentence))"
   ]
  },
  {
   "cell_type": "code",
   "execution_count": 7,
   "id": "8ce5122c-8eba-46e7-9ed6-d9ae4f5ebb63",
   "metadata": {},
   "outputs": [
    {
     "name": "stdout",
     "output_type": "stream",
     "text": [
      "Detect Language :  pa\n",
      "Probability  [pa:0.9999999557159919]\n"
     ]
    }
   ],
   "source": [
    "sentence = \"ਅੱਜ ਦਾ ਦਿਨ ਬਹੁਤ ਖੂਬਸੂਰਤ ਹੈ\"\n",
    "print(\"Detect Language : \",detect(sentence))\n",
    "print(\"Probability \", detect_langs(sentence))"
   ]
  },
  {
   "cell_type": "code",
   "execution_count": 20,
   "id": "cc870eb3-ef4e-4b97-ac6d-0af6dc845743",
   "metadata": {},
   "outputs": [
    {
     "name": "stdout",
     "output_type": "stream",
     "text": [
      "Islamabad is the beautiful city of Pakistan.\n"
     ]
    }
   ],
   "source": [
    "from googletrans import Translator\n",
    "translator = Translator()\n",
    "sentence = \"اسلام آباد پاکستان کا خوبصورت شہر ہے۔\"\n",
    "translated_text = translator.translate(sentence,src='ur',dest='en')\n",
    "print(translated_text.text)"
   ]
  },
  {
   "cell_type": "code",
   "execution_count": 22,
   "id": "d7ed7f9f-95c8-41be-9286-490e9996e244",
   "metadata": {},
   "outputs": [],
   "source": [
    "from langdetect import detect\n",
    "from  googletrans import Translator\n",
    "def detect_and_translate(text,target_lang):\n",
    "    result_lang = detect(text)\n",
    "    translator = Translator()\n",
    "    translate_text = translator.translate(text,dest=target_lang).text\n",
    "    return result_lang,translate_text"
   ]
  },
  {
   "cell_type": "code",
   "execution_count": 26,
   "id": "dc973dbe-4a45-43ef-9d6e-719f316beaef",
   "metadata": {},
   "outputs": [
    {
     "name": "stdout",
     "output_type": "stream",
     "text": [
      "Language: ur\n",
      "Translation Islamabad is the beautiful city of Pakistan.\n"
     ]
    }
   ],
   "source": [
    "sentence = \"اسلام آباد پاکستان کا خوبصورت شہر ہے۔\"\n",
    "result_lang,translate_text = detect_and_translate(sentence,target_lang='en')\n",
    "print(\"Language:\", result_lang)\n",
    "print(\"Translation\",translate_text)"
   ]
  },
  {
   "cell_type": "code",
   "execution_count": null,
   "id": "e8bce82e-b089-41b8-9ec3-479480430481",
   "metadata": {},
   "outputs": [],
   "source": []
  },
  {
   "cell_type": "code",
   "execution_count": null,
   "id": "fb293aad-0ac5-461a-8726-467b7c28aa2f",
   "metadata": {},
   "outputs": [],
   "source": []
  },
  {
   "cell_type": "code",
   "execution_count": null,
   "id": "a168bacc-7e4f-442a-9a4c-57fbaab06846",
   "metadata": {},
   "outputs": [],
   "source": []
  }
 ],
 "metadata": {
  "kernelspec": {
   "display_name": "Python 3 (ipykernel)",
   "language": "python",
   "name": "python3"
  },
  "language_info": {
   "codemirror_mode": {
    "name": "ipython",
    "version": 3
   },
   "file_extension": ".py",
   "mimetype": "text/x-python",
   "name": "python",
   "nbconvert_exporter": "python",
   "pygments_lexer": "ipython3",
   "version": "3.12.3"
  }
 },
 "nbformat": 4,
 "nbformat_minor": 5
}
